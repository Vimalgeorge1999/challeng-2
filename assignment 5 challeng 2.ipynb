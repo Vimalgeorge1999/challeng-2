{
 "cells": [
  {
   "cell_type": "code",
   "execution_count": 5,
   "id": "bbb5c90c",
   "metadata": {},
   "outputs": [
    {
     "name": "stdout",
     "output_type": "stream",
     "text": [
      "104\n",
      "-84\n",
      "940\n",
      "0.10638297872340426\n"
     ]
    }
   ],
   "source": [
    "class calculator:\n",
    "    def __init__(self,x,y):\n",
    "        self.x=x\n",
    "        self.y=y\n",
    "    def add(self):\n",
    "        return self.x+self.y\n",
    "    def sub(self):\n",
    "        return self.x-self.y\n",
    "    def multiply(self):\n",
    "        return self.x*self.y\n",
    "    def division(self):\n",
    "        return self.x/self.y\n",
    "obj=calculator(10,94)\n",
    "print(obj.add())\n",
    "print(obj.sub())\n",
    "print(obj.multiply())\n",
    "print(obj.division())"
   ]
  }
 ],
 "metadata": {
  "kernelspec": {
   "display_name": "Python 3 (ipykernel)",
   "language": "python",
   "name": "python3"
  },
  "language_info": {
   "codemirror_mode": {
    "name": "ipython",
    "version": 3
   },
   "file_extension": ".py",
   "mimetype": "text/x-python",
   "name": "python",
   "nbconvert_exporter": "python",
   "pygments_lexer": "ipython3",
   "version": "3.11.0"
  }
 },
 "nbformat": 4,
 "nbformat_minor": 5
}
